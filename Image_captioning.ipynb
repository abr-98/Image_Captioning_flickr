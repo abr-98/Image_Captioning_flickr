{
 "cells": [
  {
   "cell_type": "markdown",
   "metadata": {},
   "source": [
    "### Pre-Processing"
   ]
  },
  {
   "cell_type": "code",
   "execution_count": null,
   "metadata": {
    "id": "tlMBaCn_vY2B"
   },
   "outputs": [],
   "source": [
    "fldr1='drive/My Drive/image captioning/Flicker8k_Dataset'"
   ]
  },
  {
   "cell_type": "code",
   "execution_count": null,
   "metadata": {
    "id": "tD3D1ZORwhqr"
   },
   "outputs": [],
   "source": [
    "import os"
   ]
  },
  {
   "cell_type": "code",
   "execution_count": null,
   "metadata": {
    "id": "Cw4uRMiVwj-i"
   },
   "outputs": [],
   "source": [
    "files=os.listdir(fldr1)"
   ]
  },
  {
   "cell_type": "markdown",
   "metadata": {},
   "source": [
    "#### Image Preprocessing"
   ]
  },
  {
   "cell_type": "code",
   "execution_count": null,
   "metadata": {
    "id": "iFCUod3Xwt_o"
   },
   "outputs": [],
   "source": [
    "import cv2"
   ]
  },
  {
   "cell_type": "code",
   "execution_count": null,
   "metadata": {
    "id": "4szgzn80wwLy"
   },
   "outputs": [],
   "source": [
    "images=[]\n",
    "name=[]"
   ]
  },
  {
   "cell_type": "code",
   "execution_count": null,
   "metadata": {
    "id": "n7xR0z7-wyd_"
   },
   "outputs": [],
   "source": [
    "## Recording the images and the corresonding filenames as they are the only way to match\n",
    "## the images with their descriptions\n",
    "\n",
    "count=0\n",
    "for file in files:\n",
    "    name.append(file)\n",
    "    print(count)\n",
    "    count+=1\n",
    "    image=cv2.imread(fldr1+'/'+file)\n",
    "    #print(image)\n",
    "    image = cv2.cvtColor(image, cv2.COLOR_BGR2RGB)\n",
    "    image= cv2.resize(image,(224,224))\n",
    "    images.append(image)\n",
    "    "
   ]
  },
  {
   "cell_type": "code",
   "execution_count": 14,
   "metadata": {
    "id": "Lvtj_hPsID7Y"
   },
   "outputs": [],
   "source": [
    "import numpy as np"
   ]
  },
  {
   "cell_type": "code",
   "execution_count": null,
   "metadata": {
    "id": "5jkl-Fl3IKw3"
   },
   "outputs": [],
   "source": [
    "name_np=np.array(name)"
   ]
  },
  {
   "cell_type": "code",
   "execution_count": null,
   "metadata": {
    "id": "SPTYPIR0IQ6t"
   },
   "outputs": [],
   "source": [
    "images_np=np.array(images)"
   ]
  },
  {
   "cell_type": "code",
   "execution_count": null,
   "metadata": {
    "id": "VH81_olDIVRw"
   },
   "outputs": [],
   "source": [
    "np.save('drive/My Drive/image captioning/Images_record.npy',images_np)"
   ]
  },
  {
   "cell_type": "code",
   "execution_count": null,
   "metadata": {
    "id": "4V8m-yTFIexm"
   },
   "outputs": [],
   "source": [
    "np.save('drive/My Drive/image captioning/Name_record.npy',name_np)"
   ]
  },
  {
   "cell_type": "code",
   "execution_count": 13,
   "metadata": {
    "id": "HyuxBcDqIz04"
   },
   "outputs": [],
   "source": [
    "import pickle"
   ]
  },
  {
   "cell_type": "code",
   "execution_count": 17,
   "metadata": {
    "id": "o_yS05qtI2My"
   },
   "outputs": [],
   "source": [
    "open_file = open('drive/My Drive/image captioning/Name_rec.pkl' , \"wb\")\n",
    "pickle.dump(name, open_file)\n",
    "open_file.close()"
   ]
  },
  {
   "cell_type": "code",
   "execution_count": 15,
   "metadata": {
    "id": "tk2zvdzlvpad"
   },
   "outputs": [],
   "source": [
    "images=np.load('drive/My Drive/image captioning/Images_record.npy')"
   ]
  },
  {
   "cell_type": "code",
   "execution_count": 16,
   "metadata": {
    "id": "b3_SU-t1v9db"
   },
   "outputs": [],
   "source": [
    "names=np.load('drive/My Drive/image captioning/Name_record.npy')"
   ]
  },
  {
   "cell_type": "code",
   "execution_count": null,
   "metadata": {
    "id": "Fq5VE-_6wEZs"
   },
   "outputs": [],
   "source": [
    "names"
   ]
  },
  {
   "cell_type": "code",
   "execution_count": 18,
   "metadata": {
    "colab": {
     "base_uri": "https://localhost:8080/"
    },
    "id": "jHg-90mowGpQ",
    "outputId": "72d3fbbf-217d-4f15-80e3-3b24eac2a70e"
   },
   "outputs": [
    {
     "data": {
      "text/plain": [
       "8091"
      ]
     },
     "execution_count": 18,
     "metadata": {
      "tags": []
     },
     "output_type": "execute_result"
    }
   ],
   "source": [
    "len(images)"
   ]
  },
  {
   "cell_type": "code",
   "execution_count": 19,
   "metadata": {
    "colab": {
     "base_uri": "https://localhost:8080/"
    },
    "id": "h4rDYfDPwI4Z",
    "outputId": "c2616b9e-2f74-4d99-c7bc-537438898208"
   },
   "outputs": [
    {
     "data": {
      "text/plain": [
       "8091"
      ]
     },
     "execution_count": 19,
     "metadata": {
      "tags": []
     },
     "output_type": "execute_result"
    }
   ],
   "source": [
    "len(names)"
   ]
  },
  {
   "cell_type": "markdown",
   "metadata": {},
   "source": [
    "#### Language data Preprocessing"
   ]
  },
  {
   "cell_type": "code",
   "execution_count": 21,
   "metadata": {
    "id": "aIedfXXYwLbN"
   },
   "outputs": [],
   "source": [
    "import pandas as pd\n"
   ]
  },
  {
   "cell_type": "code",
   "execution_count": 22,
   "metadata": {
    "id": "wtE6AOBqwnNA"
   },
   "outputs": [],
   "source": [
    "df=pd.read_csv(\"drive/My Drive/image captioning/desc.csv\")"
   ]
  },
  {
   "cell_type": "code",
   "execution_count": null,
   "metadata": {
    "id": "rQ9Chcexw6G3"
   },
   "outputs": [],
   "source": [
    "df.head()"
   ]
  },
  {
   "cell_type": "code",
   "execution_count": 24,
   "metadata": {
    "id": "Oz5q4pmPzFE2"
   },
   "outputs": [],
   "source": [
    "import re"
   ]
  },
  {
   "cell_type": "code",
   "execution_count": 25,
   "metadata": {
    "id": "wusiiO99w9HN"
   },
   "outputs": [],
   "source": [
    "## Applying Preprocessing to the language\n",
    "## Removing any character which is not alphabet and whose length is not greater than 1\n",
    "## Converting all words to lower case\n",
    "\n",
    "def preprocess(text, remove_digits=True):\n",
    "    pattern=r'[^a-zA-z0-9\\s]'\n",
    "    text=re.sub(pattern,'',text)\n",
    "    words=text.split()\n",
    "    words_sm=[word.lower() for word in words]\n",
    "\n",
    "    words_la=[word for word in words_sm if len(word)>1]\n",
    "\n",
    "    words_f=[word for word in words_la if word.isalpha()]\n",
    "\n",
    "    text=\"\"\n",
    "\n",
    "    for word in words_f:\n",
    "      text=text+word+\" \"\n",
    "\n",
    "    return text"
   ]
  },
  {
   "cell_type": "code",
   "execution_count": 26,
   "metadata": {
    "id": "G2FK2Is9xPLk"
   },
   "outputs": [],
   "source": [
    "df['description']=df['description'].apply(preprocess)"
   ]
  },
  {
   "cell_type": "code",
   "execution_count": null,
   "metadata": {
    "id": "_IYmJ-GLzKiN"
   },
   "outputs": [],
   "source": [
    "df.head(20)"
   ]
  },
  {
   "cell_type": "code",
   "execution_count": 28,
   "metadata": {
    "id": "9j4_S53FzN6S"
   },
   "outputs": [],
   "source": [
    "mapping={}"
   ]
  },
  {
   "cell_type": "code",
   "execution_count": null,
   "metadata": {},
   "outputs": [],
   "source": [
    "## Creating a dictionary which has the image file name as key\n",
    "## The dictionary has the corresponding descriptions of the files\n",
    "## And the corresponding images as numpy arrays."
   ]
  },
  {
   "cell_type": "code",
   "execution_count": 29,
   "metadata": {
    "id": "elbVDN8a0Pc6"
   },
   "outputs": [],
   "source": [
    "i=0\n",
    "while i<len(df):\n",
    "  if df.iloc[i]['image'] in mapping.keys():\n",
    "    mapping[df.iloc[i]['image']]['desc'].append(df.iloc[i]['description'])\n",
    "  else:\n",
    "    mapping[df.iloc[i]['image']]={}\n",
    "    mapping[df.iloc[i]['image']]['desc']=[df.iloc[i]['description']]\n",
    "    \n",
    "  i+=1\n"
   ]
  },
  {
   "cell_type": "code",
   "execution_count": null,
   "metadata": {
    "id": "QtjXOxKPVRSx"
   },
   "outputs": [],
   "source": [
    "mapping"
   ]
  },
  {
   "cell_type": "code",
   "execution_count": 31,
   "metadata": {
    "id": "aULFlkTe6YWJ"
   },
   "outputs": [],
   "source": [
    "name_l=list(names)"
   ]
  },
  {
   "cell_type": "code",
   "execution_count": null,
   "metadata": {
    "id": "WbX-FRM5Wipe"
   },
   "outputs": [],
   "source": [
    "name_l"
   ]
  },
  {
   "cell_type": "code",
   "execution_count": null,
   "metadata": {
    "id": "2WZeJ4PR1Cag"
   },
   "outputs": [],
   "source": [
    "keys=[key for key in mapping.keys()]\n",
    "for key in keys:\n",
    "  try:\n",
    "    print(key)\n",
    "    ind=name_l.index(key)\n",
    "    mapping[key]['image']=images[ind]\n",
    "  except:\n",
    "    mapping.pop(key,None)"
   ]
  },
  {
   "cell_type": "code",
   "execution_count": null,
   "metadata": {
    "id": "dgMineImV5yq"
   },
   "outputs": [],
   "source": [
    "mapping"
   ]
  },
  {
   "cell_type": "code",
   "execution_count": 35,
   "metadata": {
    "id": "WBZJ2aTo8jrv"
   },
   "outputs": [],
   "source": [
    "X=[]\n",
    "y=[]\n",
    "\n",
    "  "
   ]
  },
  {
   "cell_type": "code",
   "execution_count": 36,
   "metadata": {
    "id": "ywFRXpu_871K"
   },
   "outputs": [],
   "source": [
    "for k in mapping.keys():\n",
    "  X.append(mapping[k]['image'])\n",
    "  y.append(mapping[k]['desc'])"
   ]
  },
  {
   "cell_type": "code",
   "execution_count": null,
   "metadata": {
    "id": "k5F3zAQoYAbz"
   },
   "outputs": [],
   "source": [
    "y"
   ]
  },
  {
   "cell_type": "code",
   "execution_count": 43,
   "metadata": {
    "id": "Wren0X4r9cRy"
   },
   "outputs": [],
   "source": [
    "X_f=np.array(X)"
   ]
  },
  {
   "cell_type": "code",
   "execution_count": 42,
   "metadata": {
    "id": "_WmT0Prt-xz0"
   },
   "outputs": [],
   "source": [
    "y_f=np.array(y)"
   ]
  },
  {
   "cell_type": "code",
   "execution_count": 26,
   "metadata": {
    "id": "wwQiqP2X-3x7"
   },
   "outputs": [],
   "source": [
    "np.save('drive/My Drive/image captioning/X_f.npy',X_f)\n",
    "np.save('drive/My Drive/image captioning/y_f.npy',y_f)"
   ]
  },
  {
   "cell_type": "code",
   "execution_count": 38,
   "metadata": {
    "id": "e04adG1u_O7V"
   },
   "outputs": [],
   "source": [
    "import numpy as np\n"
   ]
  },
  {
   "cell_type": "code",
   "execution_count": 3,
   "metadata": {
    "id": "6qpuxZyJ_Rfb"
   },
   "outputs": [],
   "source": [
    "X_f=np.load('drive/My Drive/image captioning/X_f.npy')"
   ]
  },
  {
   "cell_type": "code",
   "execution_count": 44,
   "metadata": {
    "colab": {
     "base_uri": "https://localhost:8080/"
    },
    "id": "Ysd7XNwtTO7B",
    "outputId": "30ad47ef-0fd7-4f8b-e936-3ce48f80ed80"
   },
   "outputs": [
    {
     "data": {
      "text/plain": [
       "8091"
      ]
     },
     "execution_count": 44,
     "metadata": {
      "tags": []
     },
     "output_type": "execute_result"
    }
   ],
   "source": [
    "len(X_f)"
   ]
  },
  {
   "cell_type": "code",
   "execution_count": 8,
   "metadata": {
    "id": "rPgRGXuWIfMA"
   },
   "outputs": [],
   "source": [
    "X_f=list(X_f)"
   ]
  },
  {
   "cell_type": "code",
   "execution_count": null,
   "metadata": {
    "id": "C1v9HhiLGahH"
   },
   "outputs": [],
   "source": [
    "y_f=np.load('drive/My Drive/image captioning/y_f.npy')"
   ]
  },
  {
   "cell_type": "markdown",
   "metadata": {},
   "source": [
    "### Creating Tokenizer, a dictionary named 'Word_map\""
   ]
  },
  {
   "cell_type": "code",
   "execution_count": 1,
   "metadata": {},
   "outputs": [],
   "source": [
    "### Word map is a dictionary with the word as the key and the corresponding Representing \n",
    "### integer and the count of its occurence in the whole dataset"
   ]
  },
  {
   "cell_type": "code",
   "execution_count": 46,
   "metadata": {
    "id": "sv3dVbRDJmfQ"
   },
   "outputs": [],
   "source": [
    "word_map={}\n",
    "count=1"
   ]
  },
  {
   "cell_type": "code",
   "execution_count": null,
   "metadata": {
    "id": "w4l_IJ9tUutI"
   },
   "outputs": [],
   "source": [
    "y_f"
   ]
  },
  {
   "cell_type": "code",
   "execution_count": null,
   "metadata": {
    "id": "yWJOTQoUJe33"
   },
   "outputs": [],
   "source": [
    "for description_grps in y_f:\n",
    "  for descriptions in description_grps:\n",
    "    words=descriptions.split()\n",
    "    for word in words:\n",
    "      print(word)\n",
    "      \n",
    "      if word in word_map.keys():\n",
    "        word_map[word]['count']=word_map[word]['count']+1\n",
    "        \n",
    "      else:\n",
    "        word_map[word]={}\n",
    "        word_map[word]['Rep']=count\n",
    "        word_map[word]['count']=1\n",
    "        count+=1\n",
    "\n",
    "      \n"
   ]
  },
  {
   "cell_type": "code",
   "execution_count": null,
   "metadata": {
    "id": "X2qKJ9FBLJ0d"
   },
   "outputs": [],
   "source": [
    "word_map"
   ]
  },
  {
   "cell_type": "code",
   "execution_count": 50,
   "metadata": {
    "id": "zLBzXV4sL0Ce"
   },
   "outputs": [],
   "source": [
    "import json "
   ]
  },
  {
   "cell_type": "code",
   "execution_count": 51,
   "metadata": {
    "id": "oTMb31OML1SV"
   },
   "outputs": [],
   "source": [
    "out_file = open(\"drive/My Drive/image captioning/word_map.json\", \"w\")"
   ]
  },
  {
   "cell_type": "code",
   "execution_count": 52,
   "metadata": {
    "id": "ainRr8MMMJ-T"
   },
   "outputs": [],
   "source": [
    "json.dump(word_map,out_file)"
   ]
  },
  {
   "cell_type": "code",
   "execution_count": 54,
   "metadata": {
    "id": "aAEnhtbuQT8J"
   },
   "outputs": [],
   "source": [
    "out_file = open(\"word_map.json\", \"w\")"
   ]
  },
  {
   "cell_type": "code",
   "execution_count": 55,
   "metadata": {
    "id": "WKgxHoGWQZdW"
   },
   "outputs": [],
   "source": [
    "json.dump(word_map,out_file)"
   ]
  },
  {
   "cell_type": "code",
   "execution_count": 8,
   "metadata": {
    "id": "ZidxUIPrT1e8"
   },
   "outputs": [],
   "source": [
    "out_file = open(\"drive/My Drive/image captioning/word_map.json\", \"r\")"
   ]
  },
  {
   "cell_type": "code",
   "execution_count": null,
   "metadata": {
    "id": "1aBujDL8Tbe8"
   },
   "outputs": [],
   "source": [
    "word_map=json.load(out_file)"
   ]
  },
  {
   "cell_type": "code",
   "execution_count": 57,
   "metadata": {
    "colab": {
     "base_uri": "https://localhost:8080/"
    },
    "id": "YCJyBB37T-YV",
    "outputId": "50814a1e-73bd-4d1c-920e-43d972c710eb"
   },
   "outputs": [
    {
     "data": {
      "text/plain": [
       "9385"
      ]
     },
     "execution_count": 57,
     "metadata": {
      "tags": []
     },
     "output_type": "execute_result"
    }
   ],
   "source": [
    "len(word_map)"
   ]
  },
  {
   "cell_type": "code",
   "execution_count": 2,
   "metadata": {},
   "outputs": [],
   "source": [
    "## After prepeocessing we have 9385 unique words in our entire dataset"
   ]
  },
  {
   "cell_type": "code",
   "execution_count": 56,
   "metadata": {
    "id": "c1wQqq1IMQHC"
   },
   "outputs": [],
   "source": [
    "out_file.close()"
   ]
  },
  {
   "cell_type": "code",
   "execution_count": 3,
   "metadata": {},
   "outputs": [],
   "source": [
    "### Tokenizing the dataset. \n",
    "\n",
    "### Replacing the words with their corresponding represention according to the word_map"
   ]
  },
  {
   "cell_type": "code",
   "execution_count": 58,
   "metadata": {
    "id": "Fxsh_2PfNOZj"
   },
   "outputs": [],
   "source": [
    "Y=[]"
   ]
  },
  {
   "cell_type": "code",
   "execution_count": 59,
   "metadata": {
    "id": "hRSxbo7sP2Ox"
   },
   "outputs": [],
   "source": [
    "final_length=25"
   ]
  },
  {
   "cell_type": "code",
   "execution_count": 60,
   "metadata": {
    "id": "32FFHP4pMY2B"
   },
   "outputs": [],
   "source": [
    "for description_grps in y_f:\n",
    "\n",
    "  Y_temp=[]\n",
    "  for descriptions in description_grps:  \n",
    "    words=descriptions.split()\n",
    "    temp_sent=[]\n",
    "    for word in words:\n",
    "      temp_sent.append(word_map[word]['Rep'])\n",
    "    Y_temp.append(temp_sent)\n",
    "  Y.append(Y_temp)\n"
   ]
  },
  {
   "cell_type": "code",
   "execution_count": 61,
   "metadata": {
    "id": "ciYspfoEOhWY"
   },
   "outputs": [],
   "source": [
    "Y_n=np.array(Y)"
   ]
  },
  {
   "cell_type": "code",
   "execution_count": 62,
   "metadata": {
    "colab": {
     "base_uri": "https://localhost:8080/"
    },
    "id": "VFTzJZ4vQhdJ",
    "outputId": "aa5aa24a-490e-4660-a4df-7cec9a2150cb"
   },
   "outputs": [
    {
     "data": {
      "text/plain": [
       "8091"
      ]
     },
     "execution_count": 62,
     "metadata": {
      "tags": []
     },
     "output_type": "execute_result"
    }
   ],
   "source": [
    "len(Y)"
   ]
  },
  {
   "cell_type": "code",
   "execution_count": 41,
   "metadata": {
    "id": "Jqipasm0OnFD"
   },
   "outputs": [],
   "source": [
    "np.save(\"drive/My Drive/image captioning/Y_final.npy\",Y_n)"
   ]
  },
  {
   "cell_type": "code",
   "execution_count": 4,
   "metadata": {
    "id": "JdAgtpRpTFGw"
   },
   "outputs": [],
   "source": [
    "Y_n=np.load(\"drive/My Drive/image captioning/Y_final.npy\",allow_pickle=True)"
   ]
  },
  {
   "cell_type": "code",
   "execution_count": 42,
   "metadata": {
    "colab": {
     "base_uri": "https://localhost:8080/"
    },
    "id": "Me-upatXTWDk",
    "outputId": "c03f9dbe-4b99-43df-fc2a-3279a0c8de38"
   },
   "outputs": [
    {
     "data": {
      "text/plain": [
       "8091"
      ]
     },
     "execution_count": 42,
     "metadata": {
      "tags": []
     },
     "output_type": "execute_result"
    }
   ],
   "source": [
    "len(Y_n)"
   ]
  },
  {
   "cell_type": "code",
   "execution_count": 17,
   "metadata": {
    "id": "eerGpXzFIjhX"
   },
   "outputs": [],
   "source": [
    "y_f=list(y_f)"
   ]
  },
  {
   "cell_type": "code",
   "execution_count": 3,
   "metadata": {
    "id": "rAHV5EUe9q8M"
   },
   "outputs": [],
   "source": [
    "X_f_2=X_f/255"
   ]
  },
  {
   "cell_type": "code",
   "execution_count": 4,
   "metadata": {
    "id": "m3H3H3yX_jo9"
   },
   "outputs": [],
   "source": [
    "np.save('X_f_2.npy',X_f_2)"
   ]
  },
  {
   "cell_type": "code",
   "execution_count": 4,
   "metadata": {
    "id": "LKQXi3e9KoYU"
   },
   "outputs": [],
   "source": [
    "import numpy as np\n"
   ]
  },
  {
   "cell_type": "code",
   "execution_count": 63,
   "metadata": {
    "id": "aZ_d4x_nFfF2"
   },
   "outputs": [],
   "source": [
    "from sklearn.model_selection import train_test_split"
   ]
  },
  {
   "cell_type": "code",
   "execution_count": 4,
   "metadata": {},
   "outputs": [],
   "source": [
    "### Splitting the data"
   ]
  },
  {
   "cell_type": "code",
   "execution_count": 64,
   "metadata": {
    "id": "VAdXB0dNIXzE"
   },
   "outputs": [],
   "source": [
    "X_train,X_test,Y_train,Y_test=train_test_split(X_f,Y_n, test_size=0.2)"
   ]
  },
  {
   "cell_type": "code",
   "execution_count": 5,
   "metadata": {},
   "outputs": [],
   "source": [
    "### Creating embedding matrix for the word vectors"
   ]
  },
  {
   "cell_type": "code",
   "execution_count": 8,
   "metadata": {
    "id": "JLoQLgkgPBkS"
   },
   "outputs": [],
   "source": [
    "emb_dim=50\n",
    "vocab=len(word_map)+1\n",
    "#len(word_map)=9385\n",
    "emb_mat= np.zeros((vocab,emb_dim))"
   ]
  },
  {
   "cell_type": "code",
   "execution_count": 7,
   "metadata": {
    "id": "Q51fOIA3SYrc"
   },
   "outputs": [],
   "source": [
    "file_path=\"drive/My Drive/glove.6B/\""
   ]
  },
  {
   "cell_type": "code",
   "execution_count": null,
   "metadata": {},
   "outputs": [],
   "source": [
    "### For embedding I have used Glove6B by the standford NLP"
   ]
  },
  {
   "cell_type": "code",
   "execution_count": 67,
   "metadata": {
    "id": "ity1Er5hRVu0"
   },
   "outputs": [],
   "source": [
    "with open(file_path+'glove.6B.50d.txt') as f:\n",
    "        for line in f:\n",
    "          word, *emb = line.split()\n",
    "          if word in word_map.keys():\n",
    "            emb_mat[word_map[word]['Rep']]=np.array(emb,dtype=\"float32\")[:emb_dim]\n"
   ]
  },
  {
   "cell_type": "code",
   "execution_count": null,
   "metadata": {},
   "outputs": [],
   "source": [
    "### The above code picks up every word in the dataset and picks its 50d embedding from the glove 6b. \n",
    "### So, as we have 9385 words our embedding will have a dimension of 9385x50"
   ]
  },
  {
   "cell_type": "code",
   "execution_count": 68,
   "metadata": {
    "id": "J48fdT5AZHWv"
   },
   "outputs": [],
   "source": [
    "from tensorflow.keras.layers import Embedding,Dense, Activation, MaxPool1D,Input, LSTM, Dropout, Input,Activation,add,MaxPooling2D,Conv2D, Flatten\n",
    "from tensorflow.keras.models import Model\n",
    "from tensorflow.keras.optimizers import Adam\n",
    "from tensorflow.keras.regularizers import l2"
   ]
  },
  {
   "cell_type": "markdown",
   "metadata": {},
   "source": [
    "### Modelling"
   ]
  },
  {
   "cell_type": "code",
   "execution_count": 69,
   "metadata": {
    "id": "DPVcJ5HNjlUm"
   },
   "outputs": [],
   "source": [
    "def Convolution(input_tensor,filters):\n",
    "    \n",
    "    x = Conv2D(filters=filters,kernel_size=(3, 3),padding = 'same',strides=(1, 1),kernel_regularizer=l2(0.003))(input_tensor)\n",
    "    x = Dropout(0.1)(x)\n",
    "    x= Activation('relu')(x)\n",
    "\n",
    "    return x\n",
    "\n",
    "def model(input_shape):\n",
    "  inputs_images=Input((input_shape))\n",
    "  conv_1= Convolution(inputs_images,32)\n",
    "  maxp_1 = MaxPooling2D(pool_size = (2,2)) (conv_1)\n",
    "  conv_2 = Convolution(maxp_1,64)\n",
    "  maxp_2 = MaxPooling2D(pool_size = (2, 2)) (conv_2)\n",
    "  conv_3 = Convolution(maxp_2,128)\n",
    "  maxp_3 = MaxPooling2D(pool_size = (2, 2)) (conv_3)\n",
    "  flatten= Flatten() (maxp_3)\n",
    "  dense_1= Dense(256,activation='relu')(flatten)\n",
    "\n",
    "  inputs_language=Input(shape=(final_length,))\n",
    "  emb1=Embedding(input_dim=vocab, output_dim=emb_dim,weights=[emb_mat],trainable=False)(inputs_language)\n",
    "  dr1=Dropout(0.2)(emb1)\n",
    "  lstm1=LSTM(128,return_sequences=True)(dr1)\n",
    "  dr2=Dropout(0.2)(lstm1)\n",
    "  lstm2=LSTM(256,return_sequences=True)(dr2)\n",
    "\n",
    "  out_1=add([dense_1,lstm2])\n",
    "  out_2=Dense(256,activation='relu')(out_1)\n",
    "  output=Dense(vocab,activation='softmax')(out_2)\n",
    "\n",
    "\n",
    "  mdl= Model(inputs=[inputs_images,inputs_language],outputs=[output])\n",
    "  mdl.summary()\n",
    "  \n",
    "  mdl.compile(loss=\"categorical_crossentropy\", optimizer=\"Adam\")\n",
    "\n",
    "  return mdl\n",
    "\n",
    "\n",
    "  \n"
   ]
  },
  {
   "cell_type": "code",
   "execution_count": 70,
   "metadata": {
    "colab": {
     "base_uri": "https://localhost:8080/"
    },
    "id": "udOJhCkWohgE",
    "outputId": "142042f0-300c-427b-a73d-b2341cae76d3"
   },
   "outputs": [
    {
     "name": "stdout",
     "output_type": "stream",
     "text": [
      "Model: \"functional_1\"\n",
      "__________________________________________________________________________________________________\n",
      "Layer (type)                    Output Shape         Param #     Connected to                     \n",
      "==================================================================================================\n",
      "input_1 (InputLayer)            [(None, 224, 224, 3) 0                                            \n",
      "__________________________________________________________________________________________________\n",
      "conv2d (Conv2D)                 (None, 224, 224, 32) 896         input_1[0][0]                    \n",
      "__________________________________________________________________________________________________\n",
      "dropout (Dropout)               (None, 224, 224, 32) 0           conv2d[0][0]                     \n",
      "__________________________________________________________________________________________________\n",
      "activation (Activation)         (None, 224, 224, 32) 0           dropout[0][0]                    \n",
      "__________________________________________________________________________________________________\n",
      "max_pooling2d (MaxPooling2D)    (None, 112, 112, 32) 0           activation[0][0]                 \n",
      "__________________________________________________________________________________________________\n",
      "conv2d_1 (Conv2D)               (None, 112, 112, 64) 18496       max_pooling2d[0][0]              \n",
      "__________________________________________________________________________________________________\n",
      "dropout_1 (Dropout)             (None, 112, 112, 64) 0           conv2d_1[0][0]                   \n",
      "__________________________________________________________________________________________________\n",
      "activation_1 (Activation)       (None, 112, 112, 64) 0           dropout_1[0][0]                  \n",
      "__________________________________________________________________________________________________\n",
      "max_pooling2d_1 (MaxPooling2D)  (None, 56, 56, 64)   0           activation_1[0][0]               \n",
      "__________________________________________________________________________________________________\n",
      "conv2d_2 (Conv2D)               (None, 56, 56, 128)  73856       max_pooling2d_1[0][0]            \n",
      "__________________________________________________________________________________________________\n",
      "input_2 (InputLayer)            [(None, 25)]         0                                            \n",
      "__________________________________________________________________________________________________\n",
      "dropout_2 (Dropout)             (None, 56, 56, 128)  0           conv2d_2[0][0]                   \n",
      "__________________________________________________________________________________________________\n",
      "embedding (Embedding)           (None, 25, 50)       469300      input_2[0][0]                    \n",
      "__________________________________________________________________________________________________\n",
      "activation_2 (Activation)       (None, 56, 56, 128)  0           dropout_2[0][0]                  \n",
      "__________________________________________________________________________________________________\n",
      "dropout_3 (Dropout)             (None, 25, 50)       0           embedding[0][0]                  \n",
      "__________________________________________________________________________________________________\n",
      "max_pooling2d_2 (MaxPooling2D)  (None, 28, 28, 128)  0           activation_2[0][0]               \n",
      "__________________________________________________________________________________________________\n",
      "lstm (LSTM)                     (None, 25, 128)      91648       dropout_3[0][0]                  \n",
      "__________________________________________________________________________________________________\n",
      "flatten (Flatten)               (None, 100352)       0           max_pooling2d_2[0][0]            \n",
      "__________________________________________________________________________________________________\n",
      "dropout_4 (Dropout)             (None, 25, 128)      0           lstm[0][0]                       \n",
      "__________________________________________________________________________________________________\n",
      "dense (Dense)                   (None, 256)          25690368    flatten[0][0]                    \n",
      "__________________________________________________________________________________________________\n",
      "lstm_1 (LSTM)                   (None, 25, 256)      394240      dropout_4[0][0]                  \n",
      "__________________________________________________________________________________________________\n",
      "add (Add)                       (None, 25, 256)      0           dense[0][0]                      \n",
      "                                                                 lstm_1[0][0]                     \n",
      "__________________________________________________________________________________________________\n",
      "dense_1 (Dense)                 (None, 25, 256)      65792       add[0][0]                        \n",
      "__________________________________________________________________________________________________\n",
      "dense_2 (Dense)                 (None, 25, 9386)     2412202     dense_1[0][0]                    \n",
      "==================================================================================================\n",
      "Total params: 29,216,798\n",
      "Trainable params: 28,747,498\n",
      "Non-trainable params: 469,300\n",
      "__________________________________________________________________________________________________\n"
     ]
    }
   ],
   "source": [
    "Model=model(input_shape = (224,224,3))"
   ]
  },
  {
   "cell_type": "code",
   "execution_count": 71,
   "metadata": {
    "colab": {
     "base_uri": "https://localhost:8080/"
    },
    "id": "EspfCLbBpJTu",
    "outputId": "4dc52e4f-ef22-4410-d58b-86732bad4ebe"
   },
   "outputs": [
    {
     "name": "stdout",
     "output_type": "stream",
     "text": [
      "Model: \"functional_1\"\n",
      "__________________________________________________________________________________________________\n",
      "Layer (type)                    Output Shape         Param #     Connected to                     \n",
      "==================================================================================================\n",
      "input_1 (InputLayer)            [(None, 224, 224, 3) 0                                            \n",
      "__________________________________________________________________________________________________\n",
      "conv2d (Conv2D)                 (None, 224, 224, 32) 896         input_1[0][0]                    \n",
      "__________________________________________________________________________________________________\n",
      "dropout (Dropout)               (None, 224, 224, 32) 0           conv2d[0][0]                     \n",
      "__________________________________________________________________________________________________\n",
      "activation (Activation)         (None, 224, 224, 32) 0           dropout[0][0]                    \n",
      "__________________________________________________________________________________________________\n",
      "max_pooling2d (MaxPooling2D)    (None, 112, 112, 32) 0           activation[0][0]                 \n",
      "__________________________________________________________________________________________________\n",
      "conv2d_1 (Conv2D)               (None, 112, 112, 64) 18496       max_pooling2d[0][0]              \n",
      "__________________________________________________________________________________________________\n",
      "dropout_1 (Dropout)             (None, 112, 112, 64) 0           conv2d_1[0][0]                   \n",
      "__________________________________________________________________________________________________\n",
      "activation_1 (Activation)       (None, 112, 112, 64) 0           dropout_1[0][0]                  \n",
      "__________________________________________________________________________________________________\n",
      "max_pooling2d_1 (MaxPooling2D)  (None, 56, 56, 64)   0           activation_1[0][0]               \n",
      "__________________________________________________________________________________________________\n",
      "conv2d_2 (Conv2D)               (None, 56, 56, 128)  73856       max_pooling2d_1[0][0]            \n",
      "__________________________________________________________________________________________________\n",
      "input_2 (InputLayer)            [(None, 25)]         0                                            \n",
      "__________________________________________________________________________________________________\n",
      "dropout_2 (Dropout)             (None, 56, 56, 128)  0           conv2d_2[0][0]                   \n",
      "__________________________________________________________________________________________________\n",
      "embedding (Embedding)           (None, 25, 50)       469300      input_2[0][0]                    \n",
      "__________________________________________________________________________________________________\n",
      "activation_2 (Activation)       (None, 56, 56, 128)  0           dropout_2[0][0]                  \n",
      "__________________________________________________________________________________________________\n",
      "dropout_3 (Dropout)             (None, 25, 50)       0           embedding[0][0]                  \n",
      "__________________________________________________________________________________________________\n",
      "max_pooling2d_2 (MaxPooling2D)  (None, 28, 28, 128)  0           activation_2[0][0]               \n",
      "__________________________________________________________________________________________________\n",
      "lstm (LSTM)                     (None, 25, 128)      91648       dropout_3[0][0]                  \n",
      "__________________________________________________________________________________________________\n",
      "flatten (Flatten)               (None, 100352)       0           max_pooling2d_2[0][0]            \n",
      "__________________________________________________________________________________________________\n",
      "dropout_4 (Dropout)             (None, 25, 128)      0           lstm[0][0]                       \n",
      "__________________________________________________________________________________________________\n",
      "dense (Dense)                   (None, 256)          25690368    flatten[0][0]                    \n",
      "__________________________________________________________________________________________________\n",
      "lstm_1 (LSTM)                   (None, 25, 256)      394240      dropout_4[0][0]                  \n",
      "__________________________________________________________________________________________________\n",
      "add (Add)                       (None, 25, 256)      0           dense[0][0]                      \n",
      "                                                                 lstm_1[0][0]                     \n",
      "__________________________________________________________________________________________________\n",
      "dense_1 (Dense)                 (None, 25, 256)      65792       add[0][0]                        \n",
      "__________________________________________________________________________________________________\n",
      "dense_2 (Dense)                 (None, 25, 9386)     2412202     dense_1[0][0]                    \n",
      "==================================================================================================\n",
      "Total params: 29,216,798\n",
      "Trainable params: 28,747,498\n",
      "Non-trainable params: 469,300\n",
      "__________________________________________________________________________________________________\n"
     ]
    }
   ],
   "source": [
    "Model.summary()"
   ]
  },
  {
   "cell_type": "code",
   "execution_count": 72,
   "metadata": {
    "id": "NS3aUBCOqy91"
   },
   "outputs": [],
   "source": [
    "from keras.utils.vis_utils import plot_model"
   ]
  },
  {
   "cell_type": "code",
   "execution_count": 73,
   "metadata": {
    "colab": {
     "base_uri": "https://localhost:8080/",
     "height": 1000
    },
    "id": "USR-N3vhqztn",
    "outputId": "7e975ae1-ed77-481a-ca81-31520af54ad3"
   },
   "outputs": [
    {
     "data": {
      "image/png": "[encoded data removed]",
      "text/plain": [
       "<IPython.core.display.Image object>"
      ]
     },
     "execution_count": 73,
     "metadata": {
      "tags": []
     },
     "output_type": "execute_result"
    }
   ],
   "source": [
    "plot_model(Model, to_file='drive/My Drive/image captioning/model_plot.png', show_shapes=True, show_layer_names=True)"
   ]
  },
  {
   "cell_type": "code",
   "execution_count": 146,
   "metadata": {
    "colab": {
     "base_uri": "https://localhost:8080/"
    },
    "id": "_K5DnXb3uNLj",
    "outputId": "be3496a6-fb38-48f0-d18d-2206d7cdca12"
   },
   "outputs": [
    {
     "data": {
      "text/plain": [
       "array([array([[   0,   26,   28,   39,   27,    5,  243,    2,  240,   14,    0,\n",
       "           0,    0,    0,    0,    0,    0,    0,    0,    0,    0,    0,\n",
       "           0,    0,    0],\n",
       "       [   0,   26,   28,   39,   27,    5,  243,    2,   62,  126,  240,\n",
       "          14,    0,    0,    0,    0,    0,    0,    0,    0,    0,    0,\n",
       "           0,    0,    0],\n",
       "       [   0,   27,  243,    2,  255,   14,    0,    0,    0,    0,    0,\n",
       "           0,    0,    0,    0,    0,    0,    0,    0,    0,    0,    0,\n",
       "           0,    0,    0],\n",
       "       [   0,   27, 2180,  122,  572,  126,  141,   14,    0,    0,    0,\n",
       "           0,    0,    0,    0,    0,    0,    0,    0,    0,    0,    0,\n",
       "           0,    0,    0],\n",
       "       [   0,   22,   26,   28,   39,   27,    5,  243,    2,   22,  439,\n",
       "          14,    0,    0,    0,    0,    0,    0,    0,    0,    0,    0,\n",
       "           0,    0,    0]]),\n",
       "       array([[   0, 1391, 1282,    5,  235,   23, 4516,  186,  144,   14,    0,\n",
       "           0,    0,    0,    0,    0,    0,    0,    0,    0,    0,    0,\n",
       "           0,    0,    0],\n",
       "       [   0,   74,    2, 4514,  403, 3025,   11, 4559, 4527, 4516,   14,\n",
       "           0,    0,    0,    0,    0,    0,    0,    0,    0,    0,    0,\n",
       "           0,    0,    0],\n",
       "       [   0,  144, 1391, 1282, 1384,   23, 4516, 1282,   37,   22, 4560,\n",
       "        1155,   14,    0,    0,    0,    0,    0,    0,    0,    0,    0,\n",
       "           0,    0,    0],\n",
       "       [   0,   22, 1391, 1282,    2,  109, 4561,   22, 1391,  216,  211,\n",
       "          22, 1282,    2,  532,   28,   39,   14,    0,    0,    0,    0,\n",
       "           0,    0,    0],\n",
       "       [   0,   22, 1391, 1282,    2,   39,    5, 4562,  850,   22, 1282,\n",
       "           2,  109, 1007,    5,  117,   34,   22,  133,   14,    0,    0,\n",
       "           0,    0,    0]]),\n",
       "       array([[   0,  146,  100,  162,  516,    5,  434,  908, 1091,    2,   22,\n",
       "         229,  261,  171,   14,    0,    0,    0,    0,    0,    0,    0,\n",
       "           0,    0,    0],\n",
       "       [   0,   74,    2,  236,  434, 1091,   14,    0,    0,    0,    0,\n",
       "           0,    0,    0,    0,    0,    0,    0,    0,    0,    0,    0,\n",
       "           0,    0,    0],\n",
       "       [   0,   72,   74,  174,  908, 1091,  139,    9, 1184,  149,   14,\n",
       "           0,    0,    0,    0,    0,    0,    0,    0,    0,    0,    0,\n",
       "           0,    0,    0],\n",
       "       [   0,   74,   34,  162,  293, 2444,    2,   22,  229,   14,    0,\n",
       "           0,    0,    0,    0,    0,    0,    0,    0,    0,    0,    0,\n",
       "           0,    0,    0],\n",
       "       [   0,   22,  146,  100,  162,  293,    5,    2,   22, 4131,    9,\n",
       "         908, 1091,   14,    0,    0,    0,    0,    0,    0,    0,    0,\n",
       "           0,    0,    0]]),\n",
       "       ...,\n",
       "       array([[   0, 4504,   16,  193, 1087,   14,    0,    0,    0,    0,    0,\n",
       "           0,    0,    0,    0,    0,    0,    0,    0,    0,    0,    0,\n",
       "           0,    0,    0],\n",
       "       [   0,   20,   40,   27,  300,   37,   22,  668,   34,  130,  607,\n",
       "         610,  382,   14,    0,    0,    0,    0,    0,    0,    0,    0,\n",
       "           0,    0,    0],\n",
       "       [   0,   20,   40,   27,   34,  162,  173,    5,  252, 4398,  263,\n",
       "         690,   14,    0,    0,    0,    0,    0,    0,    0,    0,    0,\n",
       "           0,    0,    0],\n",
       "       [   0,   63,   40,   27,    5,  710,   37,  130,  162,   28,   39,\n",
       "          91,   77,   37, 1087,   14,    0,    0,    0,    0,    0,    0,\n",
       "           0,    0,    0],\n",
       "       [   0,   63,   40,   27,   37,   91,   14,    0,    0,    0,    0,\n",
       "           0,    0,    0,    0,    0,    0,    0,    0,    0,    0,    0,\n",
       "           0,    0,    0]]),\n",
       "       array([[   0,   26,   27,   28,   40,   27,   30,   33, 1128,   37,  126,\n",
       "          64,   14,    0,    0,    0,    0,    0,    0,    0,    0,    0,\n",
       "           0,    0,    0],\n",
       "       [   0,   40,   27,    5,  368,   26,   27,   14,    0,    0,    0,\n",
       "           0,    0,    0,    0,    0,    0,    0,    0,    0,    0,    0,\n",
       "           0,    0,    0],\n",
       "       [   0, 2119, 3363,   28,  285,   27,   30, 2201,   14,    0,    0,\n",
       "           0,    0,    0,    0,    0,    0,    0,    0,    0,    0,    0,\n",
       "           0,    0,    0],\n",
       "       [   0,  285,   27,   28,   26,   27, 2201,  722, 2219,  535,   14,\n",
       "           0,    0,    0,    0,    0,    0,    0,    0,    0,    0,    0,\n",
       "           0,    0,    0],\n",
       "       [   0,   45,   46,  368,   35,   36,  809,   77, 4855,   14,    0,\n",
       "           0,    0,    0,    0,    0,    0,    0,    0,    0,    0,    0,\n",
       "           0,    0,    0]]),\n",
       "       array([[   0,   27,  127,  497, 2502,  639, 1749,   62, 2701,   14,    0,\n",
       "           0,    0,    0,    0,    0,    0,    0,    0,    0,    0,    0,\n",
       "           0,    0,    0],\n",
       "       [   0,   63,   27,  174,  263,   22, 1294,   14,    0,    0,    0,\n",
       "           0,    0,    0,    0,    0,    0,    0,    0,    0,    0,    0,\n",
       "           0,    0,    0],\n",
       "       [   0,   63,   39,   27,  127,  497,   22,  283,   14,    0,    0,\n",
       "           0,    0,    0,    0,    0,    0,    0,    0,    0,    0,    0,\n",
       "           0,    0,    0],\n",
       "       [   0,   40,   28,   39,   27,  127,  234,  364, 1749, 1169, 2701,\n",
       "          37,  564,   14,    0,    0,    0,    0,    0,    0,    0,    0,\n",
       "           0,    0,    0],\n",
       "       [   0,   27,  117,  497,  283,   14,    0,    0,    0,    0,    0,\n",
       "           0,    0,    0,    0,    0,    0,    0,    0,    0,    0,    0,\n",
       "           0,    0,    0]])], dtype=object)"
      ]
     },
     "execution_count": 146,
     "metadata": {
      "tags": []
     },
     "output_type": "execute_result"
    }
   ],
   "source": [
    "Y_train"
   ]
  },
  {
   "cell_type": "code",
   "execution_count": 74,
   "metadata": {
    "id": "MS6lFHh3QtLE"
   },
   "outputs": [],
   "source": [
    "np.save('drive/My Drive/image captioning/X_train_final.npy',X_train)\n",
    "np.save('drive/My Drive/image captioning/Y_train_final.npy',Y_train)"
   ]
  },
  {
   "cell_type": "code",
   "execution_count": 1,
   "metadata": {
    "id": "-_o4jlweRKt5"
   },
   "outputs": [],
   "source": [
    "import numpy as np\n"
   ]
  },
  {
   "cell_type": "code",
   "execution_count": 5,
   "metadata": {
    "id": "ZhNTzWwqRNVA"
   },
   "outputs": [],
   "source": [
    "X_train=np.load('drive/My Drive/image captioning/X_train_final.npy')\n",
    "Y_train=np.load('drive/My Drive/image captioning/Y_train_final.npy', allow_pickle=True)"
   ]
  },
  {
   "cell_type": "code",
   "execution_count": 2,
   "metadata": {
    "id": "QJTEMdeKtp1m"
   },
   "outputs": [],
   "source": [
    "from tensorflow.keras.utils import to_categorical\n",
    "from keras.preprocessing.sequence import pad_sequences"
   ]
  },
  {
   "cell_type": "code",
   "execution_count": 6,
   "metadata": {},
   "outputs": [],
   "source": [
    "### The below code is like a data generator for training the model\n",
    "### So, at each step the Input will be the image and the sequence of words till time step t-1 \n",
    "### In order to predict the word at timestep t, so it will be the output.\n",
    "### So, basically here our dataset becomes huge. \n",
    "\n",
    "### If a description says \"startseq A boy playing on the ground endseq\"\n",
    "### At time stamp t=0, the input will be \"startseq\" output will be \"A\"\n",
    "### At time stamp t=1, the input will be \"startseq A\" output will be \"boy\" and so on.\n",
    "\n",
    "### But the input must be of the fixed input length. In this case, I have used 15. \n",
    "### SO, we make the length of the input equal to 15 using 0 as padding \n",
    "### Now, say \"boy\" is represented by 2. So, it represented similar to a multiclass classification with 9385 classes\n",
    "### So, we need to send the encoding of 2 as the output"
   ]
  },
  {
   "cell_type": "code",
   "execution_count": 6,
   "metadata": {
    "id": "aVhHqie8uEqV"
   },
   "outputs": [],
   "source": [
    "def get_data_trainer(X_train,Y_train):\n",
    "  image_inp=[]\n",
    "  text_inp=[]\n",
    "  text_oup=[]\n",
    "  for i in range(len(X_train)):\n",
    "    if i==3000:\n",
    "      break\n",
    "    #print(i)\n",
    "    for j in range(len(Y_train[i])):\n",
    "\n",
    "      #print(j)\n",
    "      for z in range(1,len(Y_train[i][j])):\n",
    "\n",
    "        raw_in,raw_out= Y_train[i][j][:z],Y_train[i][j][z]\n",
    "        #print(raw_out)\n",
    "        length=15\n",
    "        text_in=pad_sequences([raw_in],maxlen=length)[0]\n",
    "        text_out=to_categorical([raw_out],num_classes=vocab)[0]\n",
    "\n",
    "        text_inp.append(text_in)\n",
    "        text_oup.append(text_out)\n",
    "        image_inp.append(X_train[i])\n",
    "\n",
    "  return np.array(text_inp), np.array(text_oup), np.array(image_inp)\n",
    "\n",
    "\n",
    "\n",
    "\n",
    "      \n",
    "\n",
    "\n",
    "\n"
   ]
  },
  {
   "cell_type": "code",
   "execution_count": null,
   "metadata": {
    "id": "HmKR_MSTODgm"
   },
   "outputs": [],
   "source": [
    "X_text_inp,X_text_oup,X_image_inp=get_data_trainer(X_train,Y_train)"
   ]
  },
  {
   "cell_type": "code",
   "execution_count": null,
   "metadata": {
    "id": "2b3mpwiEq-Zo"
   },
   "outputs": [],
   "source": [
    "history = Model.fit([X_text_inp,X_text_oup], Y_train,epochs=10,verbose=True,batch_size=32)"
   ]
  },
  {
   "cell_type": "code",
   "execution_count": 7,
   "metadata": {},
   "outputs": [],
   "source": [
    "### The below code produces the output\n",
    "\n",
    "### The get_word takes in the integer produced and returns the word according to the word_map\n",
    "### Generate_Results returns the word index predicted by the model. We use softmax regressions so, we pick the word index with\n",
    "### Max probability using Argmax. The model as input takes the image and the sequence produced until that timestep.\n",
    "### If the word \"endseq\" is produced then loop breaks."
   ]
  },
  {
   "cell_type": "code",
   "execution_count": null,
   "metadata": {
    "id": "cnXAfCboTNgy"
   },
   "outputs": [],
   "source": [
    "def get_word(i,word_map):\n",
    "  for key,vals in word_map.items():\n",
    "    if vals[0]==i:\n",
    "      return key\n",
    "\n",
    "def generate_results(model,image,length,word_map):\n",
    "\n",
    "  text=\"startseq\"\n",
    "\n",
    "  for i in range(length):\n",
    "    words=text.split()\n",
    "    sequence=[]\n",
    "    for j in words:\n",
    "      sequence.append(word_map[word]['Rep'])\n",
    "    sequence=pad_sequences([sequence],max_length=length)\n",
    "\n",
    "    word_predict=model.predict([image,sequence])\n",
    "\n",
    "    word_pr=argmax(word_predict)\n",
    "\n",
    "    word=get_word(word_pr,word_map)\n",
    "\n",
    "    if word is None:\n",
    "      break\n",
    "    \n",
    "    text=text+ ' '+ word\n",
    "\n",
    "    if word=='endseq':\n",
    "      break\n",
    "\n",
    "  return text\n",
    "     \n"
   ]
  }
 ],
 "metadata": {
  "accelerator": "GPU",
  "colab": {
   "collapsed_sections": [],
   "name": "Image_captioning",
   "provenance": []
  },
  "kernelspec": {
   "display_name": "Python 3",
   "language": "python",
   "name": "python3"
  },
  "language_info": {
   "codemirror_mode": {
    "name": "ipython",
    "version": 3
   },
   "file_extension": ".py",
   "mimetype": "text/x-python",
   "name": "python",
   "nbconvert_exporter": "python",
   "pygments_lexer": "ipython3",
   "version": "3.6.9"
  }
 },
 "nbformat": 4,
 "nbformat_minor": 1
}
